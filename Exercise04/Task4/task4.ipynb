#part 1

import numpy as np
import matplotlib.pyplot as plt
